{
 "metadata": {
  "language_info": {
   "codemirror_mode": {
    "name": "ipython",
    "version": 3
   },
   "file_extension": ".py",
   "mimetype": "text/x-python",
   "name": "python",
   "nbconvert_exporter": "python",
   "pygments_lexer": "ipython3",
   "version": "3.7.4-final"
  },
  "orig_nbformat": 2,
  "kernelspec": {
   "name": "python3",
   "display_name": "Python 3"
  }
 },
 "nbformat": 4,
 "nbformat_minor": 2,
 "cells": [
  {
   "cell_type": "code",
   "execution_count": 1,
   "metadata": {},
   "outputs": [],
   "source": [
    "# TIC TAC TOE"
   ]
  },
  {
   "cell_type": "code",
   "execution_count": 2,
   "metadata": {},
   "outputs": [],
   "source": [
    "from IPython.display import clear_output\n",
    "\n",
    "dic=['7',' ',' ',' ',' ',' ',' ',' ',' ',' ']\n",
    "def display():\n",
    "    clear_output(wait=True)\n",
    "    print(dic[1], '|', dic[2], '|', dic[3])\n",
    "    print('---------')\n",
    "    print(dic[4], '|', dic[5], '|', dic[6])\n",
    "    print('---------')\n",
    "    print(dic[7], '|', dic[8], '|', dic[9])\n",
    "    #print('\\n'*5)"
   ]
  },
  {
   "cell_type": "code",
   "execution_count": 3,
   "metadata": {},
   "outputs": [],
   "source": [
    "def check_win():\n",
    "    if dic[1]==dic[2]==dic[3] or dic[3]==dic[6]==dic[9]  :\n",
    "        if dic[3]=='o':\n",
    "            print(\"congo player -o- win\")\n",
    "        elif dic[3]=='x':\n",
    "             print(\"congo player -x- win\")\n",
    "    if dic[1]==dic[4]==dic[7]  or dic[7]==dic[8]==dic[9] :\n",
    "        if dic[7]=='o':\n",
    "            print(\"congo player -o- win\")\n",
    "        elif dic[7]=='x':\n",
    "             print(\"congo player -x- win\")\n",
    "    if dic[1]==dic[5]==dic[9]  or dic[4]==dic[5]==dic[6] or dic[3]==dic[5]==dic[7] or dic[2]==dic[5]==dic[8]:\n",
    "        if dic[5]=='o':\n",
    "            print(\"congo player -o- win\")\n",
    "        elif dic[5]=='x':\n",
    "             print(\"congo player -x- win\")"
   ]
  },
  {
   "cell_type": "code",
   "execution_count": 4,
   "metadata": {},
   "outputs": [],
   "source": [
    "def tie():\n",
    "    if ' ' not in dic:\n",
    "        print('game tie')\n",
    "        return True\n",
    "    else:return False"
   ]
  },
  {
   "cell_type": "code",
   "execution_count": 5,
   "metadata": {},
   "outputs": [],
   "source": [
    "def game(dic):\n",
    "    while True:\n",
    "        position1=int(input('player 1- '))\n",
    "        if position1==0 :\n",
    "            break\n",
    "        else:\n",
    "            while True:\n",
    "                if dic[position1]==' ':\n",
    "                    dic[position1]=player1\n",
    "                    break\n",
    "                else:\n",
    "                    print('\\n no cheat')\n",
    "                    position1=int(input('player 1- '))\n",
    "        display()\n",
    "        if  check_win() or tie():\n",
    "            break\n",
    "        position2=int(input('player 2- '))\n",
    "        if position2==0:\n",
    "            break\n",
    "        else:\n",
    "            while True:\n",
    "                if dic[position2]==' ':\n",
    "                    dic[position2]=player2\n",
    "                    break\n",
    "                else:\n",
    "                    print('\\n no cheat')\n",
    "                    position2=int(input('player 2- '))\n",
    "        display()\n",
    "        if tie() or check_win():\n",
    "            break\n"
   ]
  },
  {
   "cell_type": "code",
   "execution_count": 6,
   "metadata": {},
   "outputs": [
    {
     "output_type": "stream",
     "name": "stdout",
     "text": [
      "o | x | o\n---------\no | x | x\n---------\no | x | x\ncongo player -o- win\ncongo player -x- win\ngame tie\n"
     ]
    }
   ],
   "source": [
    "dic=['7',' ',' ',' ',' ',' ',' ',' ',' ',' ']\n",
    "print(\"x or o\")\n",
    "player1=input('player 1---')\n",
    "\n",
    "if player1=='x':\n",
    "    print('player 2---o')\n",
    "    player2='o'\n",
    "else:\n",
    "    print('player 2---x')\n",
    "    player2='x'\n",
    "    \n",
    "dis=input(\"start game   y / n \")\n",
    "if dis =='y':\n",
    "    display()\n",
    "    game(dic)\n",
    "\n"
   ]
  },
  {
   "cell_type": "code",
   "execution_count": null,
   "metadata": {},
   "outputs": [],
   "source": []
  }
 ]
}